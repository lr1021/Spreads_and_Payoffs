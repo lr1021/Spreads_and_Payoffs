{
 "cells": [
  {
   "cell_type": "code",
   "execution_count": 1,
   "metadata": {},
   "outputs": [],
   "source": [
    "import numpy as np\n",
    "import matplotlib.pyplot as plt\n",
    "from scipy.stats import norm\n",
    "\n",
    "import sys\n",
    "import os\n",
    "sys.path.append(os.path.abspath(os.path.join('..')))\n",
    "from methods.portfolio import Portfolio, Derivative, Call, Put, Forward"
   ]
  },
  {
   "cell_type": "code",
   "execution_count": 2,
   "metadata": {},
   "outputs": [
    {
     "data": {
      "text/plain": [
       "np.float64(8.950422591972334)"
      ]
     },
     "execution_count": 2,
     "metadata": {},
     "output_type": "execute_result"
    }
   ],
   "source": [
    "# Example Values\n",
    "# Time to maturity\n",
    "T = 0.3333\n",
    "# Current asset price and strike price/delivery price\n",
    "S = 100\n",
    "X = 100\n",
    "\n",
    "# Risk free interest rate and asset volatility (we assume these are constant up\n",
    "# to maturity).\n",
    "r = 0.08\n",
    "q = r\n",
    "sigma = 0.4\n",
    "\n",
    "def price_call(S, X, T, r, q, sigma):\n",
    "    d1 = (np.log(S/X) + (r - q + sigma**2/2)*T)/(sigma*np.sqrt(T))\n",
    "    d2 = (np.log(S/X) + (r - q - sigma**2/2)*T)/(sigma*np.sqrt(T))\n",
    "    c = S*np.exp(-q*T)*norm.cdf(d1) - X*np.exp(-r*T)*norm.cdf(d2)\n",
    "    return c\n",
    "\n",
    "def price_put(S, X, T, r, q, sigma):\n",
    "    d1 = (np.log(S/X) + (r - q + sigma**2/2)*T)/(sigma*np.sqrt(T))\n",
    "    d2 = (np.log(S/X) + (r - q - sigma**2/2)*T)/(sigma*np.sqrt(T))\n",
    "    c = -S*np.exp(-q*T)*norm.cdf(-d1) + X*np.exp(-r*T)*norm.cdf(-d2)\n",
    "    return c\n",
    "\n",
    "def price_forward(S, X, T, r, q):\n",
    "    return (S*np.exp((r-q)*T) - X)*np.exp(-r*T)\n",
    "\n",
    "\n",
    "price_put(S, X, T, r, q, sigma)"
   ]
  },
  {
   "cell_type": "code",
   "execution_count": null,
   "metadata": {},
   "outputs": [],
   "source": []
  }
 ],
 "metadata": {
  "kernelspec": {
   "display_name": "Python 3",
   "language": "python",
   "name": "python3"
  },
  "language_info": {
   "codemirror_mode": {
    "name": "ipython",
    "version": 3
   },
   "file_extension": ".py",
   "mimetype": "text/x-python",
   "name": "python",
   "nbconvert_exporter": "python",
   "pygments_lexer": "ipython3",
   "version": "3.11.1"
  }
 },
 "nbformat": 4,
 "nbformat_minor": 2
}
